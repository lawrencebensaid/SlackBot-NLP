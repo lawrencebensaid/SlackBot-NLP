{
 "cells": [
  {
   "cell_type": "markdown",
   "source": [
    "# Sentence interpreter\n",
    "\n",
    "This notebook follows the process of training a deep neural network.\n",
    "\n",
    "A neural network which is trained accorning to predefined intents."
   ],
   "metadata": {
    "tags": [],
    "cell_id": "00000-8d97d3d6-9a54-43f7-aae2-755d00334821",
    "deepnote_cell_type": "markdown"
   }
  },
  {
   "cell_type": "code",
   "metadata": {
    "tags": [],
    "cell_id": "00000-c2012faa-01ff-4886-a8bd-949126d80829",
    "deepnote_to_be_reexecuted": false,
    "source_hash": "51ae4780",
    "execution_start": 1625140553370,
    "execution_millis": 10940,
    "deepnote_cell_type": "code"
   },
   "source": [
    "! python -m nltk.downloader punkt\n",
    "! python -m nltk.downloader wordnet\n",
    "import random\n",
    "import json\n",
    "import pickle\n",
    "import numpy as np\n",
    "import nltk\n",
    "from nltk.stem import WordNetLemmatizer\n",
    "from tensorflow.keras.models import Sequential\n",
    "from tensorflow.keras.layers import Dense, Activation, Dropout\n",
    "from tensorflow.keras.optimizers import SGD\n",
    "print('Setup done!')"
   ],
   "execution_count": 1,
   "outputs": [
    {
     "name": "stdout",
     "text": "/usr/lib/python3.6/runpy.py:125: RuntimeWarning: 'nltk.downloader' found in sys.modules after import of package 'nltk', but prior to execution of 'nltk.downloader'; this may result in unpredictable behaviour\n  warn(RuntimeWarning(msg))\n[nltk_data] Downloading package punkt to /root/nltk_data...\n[nltk_data]   Unzipping tokenizers/punkt.zip.\n/usr/lib/python3.6/runpy.py:125: RuntimeWarning: 'nltk.downloader' found in sys.modules after import of package 'nltk', but prior to execution of 'nltk.downloader'; this may result in unpredictable behaviour\n  warn(RuntimeWarning(msg))\n[nltk_data] Downloading package wordnet to /root/nltk_data...\n[nltk_data]   Unzipping corpora/wordnet.zip.\nSetup done!\n",
     "output_type": "stream"
    }
   ]
  },
  {
   "cell_type": "code",
   "metadata": {
    "tags": [],
    "cell_id": "00001-acd13767-79ad-406e-9d12-dc3f7b3a6c94",
    "deepnote_to_be_reexecuted": false,
    "source_hash": "8e757c1f",
    "execution_start": 1625140564315,
    "execution_millis": 3335,
    "deepnote_cell_type": "code"
   },
   "source": [
    "lemmatizer = WordNetLemmatizer()\n",
    "\n",
    "intents = json.loads(open('./input/intents.json').read())\n",
    "\n",
    "words = []\n",
    "topics = []\n",
    "documents = []\n",
    "ignore_letters = ['?', '!', '.', ',', ':', ';', '\"', '\\'']\n",
    "\n",
    "for intent in intents['intents']:\n",
    "    for pattern in intent['patterns']:\n",
    "        word_list = nltk.word_tokenize(pattern)\n",
    "        for word in word_list:\n",
    "            words.append(word)\n",
    "        documents.append((word_list, intent['topic']))\n",
    "        if intent['topic'] not in topics:\n",
    "            topics.append(intent['topic'])\n",
    "\n",
    "words = [lemmatizer.lemmatize(word, 'v') for word in words if word not in ignore_letters]\n",
    "words = sorted(set(words))\n",
    "topics = sorted(set(topics))\n",
    "\n",
    "pickle.dump(words, open('output/words.pk1', 'wb'))\n",
    "pickle.dump(topics, open('output/topics.pk1', 'wb'))\n",
    "\n",
    "training = []\n",
    "output_empty = [0] * len(topics)\n",
    "\n",
    "for document in documents:\n",
    "    bag = []\n",
    "    word_patterns = document[0]\n",
    "    word_patterns = [lemmatizer.lemmatize(word.lower()) for word in word_patterns]\n",
    "    for word in words:\n",
    "        bag.append(1 if word in word_patterns else 0)\n",
    "    output_row = list(output_empty)\n",
    "    output_row[topics.index(document[1])] = 1\n",
    "    training.append([bag, output_row])"
   ],
   "execution_count": 2,
   "outputs": []
  },
  {
   "cell_type": "code",
   "metadata": {
    "tags": [],
    "cell_id": "00002-55c52d4f-6962-4386-b93a-df4855b9a121",
    "deepnote_to_be_reexecuted": false,
    "source_hash": "95a51d89",
    "execution_start": 1625140567656,
    "execution_millis": 86,
    "deepnote_cell_type": "code"
   },
   "source": [
    "training"
   ],
   "execution_count": 3,
   "outputs": [
    {
     "output_type": "execute_result",
     "execution_count": 3,
     "data": {
      "text/plain": "[[[1,\n   0,\n   0,\n   0,\n   0,\n   0,\n   0,\n   0,\n   0,\n   1,\n   0,\n   0,\n   0,\n   0,\n   0,\n   0,\n   0,\n   0,\n   0,\n   0,\n   0,\n   0,\n   0,\n   0,\n   0,\n   0,\n   0,\n   0,\n   0,\n   0],\n  [0, 0, 0, 1, 0]],\n [[0,\n   0,\n   0,\n   0,\n   0,\n   0,\n   0,\n   0,\n   0,\n   1,\n   0,\n   0,\n   0,\n   0,\n   0,\n   0,\n   0,\n   0,\n   0,\n   0,\n   1,\n   0,\n   0,\n   0,\n   0,\n   0,\n   0,\n   0,\n   0,\n   0],\n  [0, 0, 0, 1, 0]],\n [[0,\n   0,\n   0,\n   0,\n   0,\n   0,\n   0,\n   0,\n   0,\n   0,\n   0,\n   1,\n   0,\n   0,\n   0,\n   0,\n   0,\n   0,\n   0,\n   0,\n   0,\n   0,\n   0,\n   0,\n   0,\n   0,\n   0,\n   0,\n   0,\n   0],\n  [0, 0, 0, 1, 0]],\n [[0,\n   0,\n   0,\n   0,\n   0,\n   0,\n   0,\n   0,\n   0,\n   0,\n   0,\n   0,\n   1,\n   0,\n   0,\n   0,\n   0,\n   0,\n   0,\n   0,\n   0,\n   0,\n   0,\n   0,\n   0,\n   0,\n   0,\n   0,\n   0,\n   0],\n  [0, 0, 0, 1, 0]],\n [[0,\n   0,\n   0,\n   0,\n   0,\n   0,\n   0,\n   0,\n   0,\n   0,\n   0,\n   0,\n   0,\n   1,\n   0,\n   0,\n   0,\n   0,\n   0,\n   0,\n   0,\n   0,\n   0,\n   0,\n   0,\n   0,\n   0,\n   0,\n   0,\n   0],\n  [0, 0, 0, 1, 0]],\n [[0,\n   0,\n   0,\n   0,\n   0,\n   0,\n   0,\n   0,\n   0,\n   0,\n   0,\n   0,\n   0,\n   0,\n   1,\n   0,\n   0,\n   0,\n   0,\n   0,\n   0,\n   0,\n   0,\n   0,\n   0,\n   0,\n   0,\n   0,\n   0,\n   1],\n  [0, 0, 0, 1, 0]],\n [[0,\n   0,\n   0,\n   1,\n   0,\n   0,\n   0,\n   0,\n   0,\n   0,\n   0,\n   0,\n   0,\n   0,\n   0,\n   0,\n   0,\n   0,\n   0,\n   0,\n   0,\n   0,\n   0,\n   0,\n   0,\n   0,\n   0,\n   0,\n   0,\n   0],\n  [0, 0, 1, 0, 0]],\n [[0,\n   0,\n   0,\n   0,\n   0,\n   0,\n   0,\n   0,\n   0,\n   0,\n   1,\n   0,\n   0,\n   0,\n   0,\n   0,\n   0,\n   0,\n   0,\n   0,\n   0,\n   0,\n   0,\n   0,\n   0,\n   0,\n   0,\n   0,\n   0,\n   0],\n  [0, 0, 1, 0, 0]],\n [[0,\n   0,\n   0,\n   0,\n   0,\n   0,\n   0,\n   0,\n   0,\n   0,\n   0,\n   0,\n   0,\n   0,\n   0,\n   0,\n   0,\n   0,\n   1,\n   0,\n   0,\n   0,\n   1,\n   0,\n   0,\n   0,\n   0,\n   0,\n   0,\n   1],\n  [0, 0, 1, 0, 0]],\n [[0,\n   0,\n   1,\n   0,\n   0,\n   0,\n   0,\n   0,\n   0,\n   0,\n   0,\n   0,\n   0,\n   0,\n   0,\n   0,\n   1,\n   0,\n   0,\n   0,\n   0,\n   0,\n   0,\n   0,\n   0,\n   0,\n   0,\n   0,\n   1,\n   0],\n  [0, 0, 0, 0, 1]],\n [[0,\n   0,\n   0,\n   0,\n   0,\n   0,\n   0,\n   0,\n   0,\n   0,\n   0,\n   0,\n   0,\n   0,\n   0,\n   1,\n   0,\n   0,\n   0,\n   0,\n   0,\n   1,\n   0,\n   0,\n   0,\n   0,\n   0,\n   0,\n   1,\n   0],\n  [0, 0, 0, 0, 1]],\n [[0,\n   0,\n   0,\n   0,\n   1,\n   0,\n   0,\n   0,\n   0,\n   0,\n   0,\n   0,\n   0,\n   0,\n   0,\n   0,\n   0,\n   0,\n   0,\n   0,\n   0,\n   0,\n   0,\n   0,\n   0,\n   0,\n   0,\n   0,\n   0,\n   0],\n  [1, 0, 0, 0, 0]],\n [[0,\n   0,\n   0,\n   0,\n   0,\n   1,\n   0,\n   0,\n   0,\n   0,\n   0,\n   0,\n   0,\n   0,\n   0,\n   0,\n   0,\n   0,\n   0,\n   0,\n   0,\n   0,\n   0,\n   0,\n   0,\n   0,\n   0,\n   0,\n   0,\n   0],\n  [1, 0, 0, 0, 0]],\n [[0,\n   0,\n   0,\n   0,\n   0,\n   0,\n   0,\n   0,\n   0,\n   0,\n   0,\n   0,\n   0,\n   0,\n   0,\n   0,\n   0,\n   1,\n   0,\n   0,\n   0,\n   0,\n   0,\n   0,\n   0,\n   0,\n   0,\n   0,\n   0,\n   0],\n  [1, 0, 0, 0, 0]],\n [[0,\n   0,\n   0,\n   0,\n   0,\n   0,\n   0,\n   0,\n   0,\n   0,\n   0,\n   0,\n   0,\n   0,\n   0,\n   0,\n   0,\n   0,\n   0,\n   0,\n   0,\n   0,\n   0,\n   0,\n   0,\n   0,\n   1,\n   0,\n   0,\n   0],\n  [1, 0, 0, 0, 0]],\n [[0,\n   0,\n   0,\n   0,\n   0,\n   0,\n   0,\n   0,\n   0,\n   0,\n   0,\n   0,\n   0,\n   0,\n   0,\n   0,\n   0,\n   0,\n   0,\n   0,\n   0,\n   0,\n   0,\n   0,\n   0,\n   1,\n   0,\n   0,\n   0,\n   0],\n  [1, 0, 0, 0, 0]],\n [[0,\n   0,\n   0,\n   0,\n   0,\n   0,\n   0,\n   1,\n   0,\n   0,\n   0,\n   0,\n   0,\n   0,\n   0,\n   0,\n   0,\n   0,\n   0,\n   0,\n   0,\n   0,\n   0,\n   0,\n   0,\n   0,\n   0,\n   0,\n   0,\n   0],\n  [1, 0, 0, 0, 0]],\n [[0,\n   0,\n   0,\n   0,\n   0,\n   0,\n   0,\n   0,\n   0,\n   0,\n   0,\n   0,\n   0,\n   0,\n   0,\n   0,\n   0,\n   0,\n   0,\n   0,\n   0,\n   0,\n   0,\n   0,\n   1,\n   0,\n   0,\n   0,\n   0,\n   0],\n  [1, 0, 0, 0, 0]],\n [[0,\n   0,\n   0,\n   0,\n   0,\n   0,\n   0,\n   0,\n   0,\n   0,\n   0,\n   0,\n   0,\n   0,\n   0,\n   0,\n   0,\n   0,\n   0,\n   0,\n   0,\n   0,\n   0,\n   1,\n   0,\n   0,\n   0,\n   0,\n   0,\n   0],\n  [1, 0, 0, 0, 0]],\n [[0,\n   0,\n   0,\n   0,\n   0,\n   0,\n   1,\n   0,\n   0,\n   0,\n   0,\n   0,\n   0,\n   0,\n   0,\n   0,\n   0,\n   0,\n   0,\n   0,\n   0,\n   0,\n   0,\n   0,\n   0,\n   0,\n   0,\n   1,\n   0,\n   0],\n  [0, 1, 0, 0, 0]]]"
     },
     "metadata": {}
    }
   ]
  },
  {
   "cell_type": "code",
   "metadata": {
    "tags": [],
    "cell_id": "00003-87e2de4c-2c75-427c-95bb-d79eb55fee42",
    "deepnote_to_be_reexecuted": false,
    "source_hash": "8a79ddd9",
    "execution_start": 1625140567709,
    "execution_millis": 33,
    "deepnote_cell_type": "code"
   },
   "source": [
    "random.shuffle(training)\n",
    "training = np.array(training)\n",
    "\n",
    "train_x = list(training[:, 0])\n",
    "train_y = list(training[:, 1])"
   ],
   "execution_count": 4,
   "outputs": [
    {
     "name": "stderr",
     "text": "/shared-libs/python3.6/py-core/lib/python3.6/site-packages/ipykernel_launcher.py:2: VisibleDeprecationWarning: Creating an ndarray from ragged nested sequences (which is a list-or-tuple of lists-or-tuples-or ndarrays with different lengths or shapes) is deprecated. If you meant to do this, you must specify 'dtype=object' when creating the ndarray\n  \n",
     "output_type": "stream"
    }
   ]
  },
  {
   "cell_type": "code",
   "metadata": {
    "tags": [],
    "cell_id": "00003-62909a02-5e41-4607-872b-f84afcf728f5",
    "deepnote_to_be_reexecuted": false,
    "source_hash": "1f359048",
    "execution_start": 1625140567735,
    "execution_millis": 152,
    "deepnote_cell_type": "code"
   },
   "source": [
    "model = Sequential([\n",
    "    Dense(128, input_shape=(len(train_x[0]),), activation='relu'),\n",
    "    Dropout(.5),\n",
    "    Dense(64, activation='relu'),\n",
    "    Dropout(.5),\n",
    "    Dense(len(train_y[0]), activation='softmax'),\n",
    "])\n",
    "\n",
    "sgd = SGD(lr=.01, decay=1e-6, momentum=.9, nesterov=True)\n",
    "model.compile(loss='categorical_crossentropy', optimizer=sgd, metrics=['accuracy'])"
   ],
   "execution_count": 5,
   "outputs": [
    {
     "name": "stderr",
     "text": "/usr/local/lib/python3.6/dist-packages/tensorflow/python/keras/optimizer_v2/optimizer_v2.py:375: UserWarning: The `lr` argument is deprecated, use `learning_rate` instead.\n  \"The `lr` argument is deprecated, use `learning_rate` instead.\")\n",
     "output_type": "stream"
    }
   ]
  },
  {
   "cell_type": "code",
   "metadata": {
    "tags": [],
    "cell_id": "00006-33af2aed-d753-465e-94fa-683ed2aab11a",
    "deepnote_to_be_reexecuted": false,
    "source_hash": "bfb751a0",
    "execution_start": 1625140610285,
    "execution_millis": 2611,
    "deepnote_cell_type": "code"
   },
   "source": [
    "history = model.fit(np.array(train_x), np.array(train_y), epochs=200, batch_size=5, verbose=0)\n",
    "model.save('output/SlackBotNLP.h5', history)\n",
    "print(\"All set!\")"
   ],
   "execution_count": 7,
   "outputs": [
    {
     "name": "stdout",
     "text": "All set!\n",
     "output_type": "stream"
    }
   ]
  }
 ],
 "nbformat": 4,
 "nbformat_minor": 2,
 "metadata": {
  "orig_nbformat": 2,
  "deepnote": {
   "is_reactive": false
  },
  "deepnote_notebook_id": "ca4a1788-90f9-46aa-a640-e6563821b647",
  "deepnote_execution_queue": []
 }
}